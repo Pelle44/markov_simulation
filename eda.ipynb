{
 "cells": [
  {
   "cell_type": "code",
   "execution_count": 1,
   "id": "66114be8-db2c-4982-be57-cf3f1d8b49ae",
   "metadata": {},
   "outputs": [],
   "source": [
    "import pandas as pd\n",
    "import numpy as np\n",
    "import random\n",
    "from datetime import datetime, timedelta"
   ]
  },
  {
   "cell_type": "code",
   "execution_count": 2,
   "id": "c65f120f-4f5b-47bb-a177-51412c170ecc",
   "metadata": {},
   "outputs": [],
   "source": [
    "monday_data = pd.read_csv('./data/monday.csv', sep=';')\n",
    "tuesday_data = pd.read_csv('./data/tuesday.csv', sep=';')\n",
    "wednesday_data = pd.read_csv('./data/wednesday.csv', sep=';')\n",
    "thursday_data = pd.read_csv('./data/thursday.csv', sep=';')\n",
    "friday_data = pd.read_csv('./data/friday.csv', sep=';')"
   ]
  },
  {
   "cell_type": "code",
   "execution_count": 3,
   "id": "a07face9-5bef-459d-9f9d-36ce52541132",
   "metadata": {},
   "outputs": [],
   "source": [
    "def create_missing_checkout(df):\n",
    "    \n",
    "    \"\"\"\n",
    "    For some of last customers are the checkouts missing. This function adds them.\n",
    "    \"\"\"\n",
    "    \n",
    "    df['timestamp'] = pd.to_datetime(df['timestamp'])\n",
    "    \n",
    "    timestamp = df['timestamp'].iloc[-1] + timedelta(minutes=3) #selecting the last timestamp in the df for date and time and adds 3 minutes\n",
    "    \n",
    "    data_checkout = df.loc[df['location'] == 'checkout']\n",
    "    customers_with_checkout = data_checkout['customer_no'].unique()\n",
    "    customers_ids = df['customer_no'].unique()\n",
    "    customers_without_checkout = np.setxor1d(customers_with_checkout, customers_ids) # function, which compares to arrays for no matching values\n",
    "    \n",
    "    for ids in customers_without_checkout:\n",
    "        new_row = pd.DataFrame({'timestamp':timestamp, 'customer_no':ids, 'location':'checkout'}, index =[0])\n",
    "        df = pd.concat([df, new_row]).reset_index(drop = True)\n",
    "        \n",
    "    return df"
   ]
  },
  {
   "cell_type": "code",
   "execution_count": 4,
   "id": "bc3170c9-dde2-4a7c-b85e-6f53a95add7d",
   "metadata": {},
   "outputs": [],
   "source": [
    "monday_data = create_missing_checkout(monday_data)\n",
    "tuesday_data = create_missing_checkout(tuesday_data)\n",
    "wednesday_data = create_missing_checkout(wednesday_data)\n",
    "thursday_data = create_missing_checkout(thursday_data)\n",
    "friday_data = create_missing_checkout(friday_data)"
   ]
  },
  {
   "cell_type": "code",
   "execution_count": 5,
   "id": "4c813b9c-7f79-4ec0-8987-a3c5d94c185a",
   "metadata": {},
   "outputs": [
    {
     "data": {
      "text/plain": [
       "array([1448, 1449, 1450, ..., 2867, 2868, 2869])"
      ]
     },
     "execution_count": 5,
     "metadata": {},
     "output_type": "execute_result"
    }
   ],
   "source": [
    "tuesday_ids = np.arange((monday_data['customer_no'].max())+1, (monday_data['customer_no'].max())+(tuesday_data['customer_no'].max())+1)\n",
    "tuesday_ids"
   ]
  },
  {
   "cell_type": "code",
   "execution_count": 6,
   "id": "f3e3e28f-78b8-402f-8205-e6db845c6901",
   "metadata": {},
   "outputs": [
    {
     "data": {
      "text/plain": [
       "array([2870, 2871, 2872, ..., 4289, 4290, 4291])"
      ]
     },
     "execution_count": 6,
     "metadata": {},
     "output_type": "execute_result"
    }
   ],
   "source": [
    "wednesday_ids = np.arange(tuesday_ids[-1]+1, tuesday_ids[-1]+tuesday_data['customer_no'].max()+1)\n",
    "wednesday_ids"
   ]
  },
  {
   "cell_type": "code",
   "execution_count": 7,
   "id": "57349cac-5360-4537-9060-da360d7a1eff",
   "metadata": {},
   "outputs": [
    {
     "data": {
      "text/plain": [
       "array([4292, 4293, 4294, ..., 5820, 5821, 5822])"
      ]
     },
     "execution_count": 7,
     "metadata": {},
     "output_type": "execute_result"
    }
   ],
   "source": [
    "thursday_ids = np.arange(wednesday_ids[-1]+1, wednesday_ids[-1]+wednesday_data['customer_no'].max()+1)\n",
    "thursday_ids"
   ]
  },
  {
   "cell_type": "code",
   "execution_count": 8,
   "id": "c56c4fb5-6305-4507-b4c3-796193ca37f3",
   "metadata": {},
   "outputs": [
    {
     "data": {
      "text/plain": [
       "array([5823, 5824, 5825, ..., 7355, 7356, 7357])"
      ]
     },
     "execution_count": 8,
     "metadata": {},
     "output_type": "execute_result"
    }
   ],
   "source": [
    "friday_ids = np.arange(thursday_ids[-1]+1, thursday_ids[-1]+thursday_data['customer_no'].max()+1)\n",
    "friday_ids"
   ]
  },
  {
   "cell_type": "code",
   "execution_count": 9,
   "id": "174b71e8-e86a-46a9-8c37-bccdb7a5f8f3",
   "metadata": {},
   "outputs": [],
   "source": [
    "def replace_customer_ids(df, day_ids):\n",
    "    \n",
    "    \"\"\"\n",
    "    The customer id 'customer_no' resets each day. This functions makes it unique for all days. The daily IDs are needed.\n",
    "    \"\"\"\n",
    "    \n",
    "    value = 1\n",
    "    i = 0\n",
    "\n",
    "    for customer_id in day_ids:\n",
    "        df.loc[ df['customer_no'] == value, 'customer_no'] = day_ids[i]\n",
    "        value = value + 1\n",
    "        i = i + 1\n",
    "    \n",
    "    return df"
   ]
  },
  {
   "cell_type": "code",
   "execution_count": 10,
   "id": "cd330e5b-3279-456f-8c62-fb7995f8d9ec",
   "metadata": {},
   "outputs": [],
   "source": [
    "tuesday_data = replace_customer_ids(tuesday_data, tuesday_ids)\n",
    "wednesday_data = replace_customer_ids(wednesday_data, wednesday_ids)\n",
    "thursday_data = replace_customer_ids(thursday_data, thursday_ids)\n",
    "friday_data = replace_customer_ids(friday_data, friday_ids)"
   ]
  },
  {
   "cell_type": "code",
   "execution_count": 11,
   "id": "b246a961-a174-4f28-ac59-1319fb3e870f",
   "metadata": {},
   "outputs": [
    {
     "data": {
      "text/html": [
       "<div>\n",
       "<style scoped>\n",
       "    .dataframe tbody tr th:only-of-type {\n",
       "        vertical-align: middle;\n",
       "    }\n",
       "\n",
       "    .dataframe tbody tr th {\n",
       "        vertical-align: top;\n",
       "    }\n",
       "\n",
       "    .dataframe thead th {\n",
       "        text-align: right;\n",
       "    }\n",
       "</style>\n",
       "<table border=\"1\" class=\"dataframe\">\n",
       "  <thead>\n",
       "    <tr style=\"text-align: right;\">\n",
       "      <th></th>\n",
       "      <th>timestamp</th>\n",
       "      <th>customer_no</th>\n",
       "      <th>location</th>\n",
       "    </tr>\n",
       "  </thead>\n",
       "  <tbody>\n",
       "    <tr>\n",
       "      <th>0</th>\n",
       "      <td>2019-09-02 07:03:00</td>\n",
       "      <td>1</td>\n",
       "      <td>dairy</td>\n",
       "    </tr>\n",
       "    <tr>\n",
       "      <th>1</th>\n",
       "      <td>2019-09-02 07:03:00</td>\n",
       "      <td>2</td>\n",
       "      <td>dairy</td>\n",
       "    </tr>\n",
       "    <tr>\n",
       "      <th>2</th>\n",
       "      <td>2019-09-02 07:04:00</td>\n",
       "      <td>3</td>\n",
       "      <td>dairy</td>\n",
       "    </tr>\n",
       "    <tr>\n",
       "      <th>3</th>\n",
       "      <td>2019-09-02 07:04:00</td>\n",
       "      <td>4</td>\n",
       "      <td>dairy</td>\n",
       "    </tr>\n",
       "    <tr>\n",
       "      <th>4</th>\n",
       "      <td>2019-09-02 07:04:00</td>\n",
       "      <td>5</td>\n",
       "      <td>spices</td>\n",
       "    </tr>\n",
       "    <tr>\n",
       "      <th>...</th>\n",
       "      <td>...</td>\n",
       "      <td>...</td>\n",
       "      <td>...</td>\n",
       "    </tr>\n",
       "    <tr>\n",
       "      <th>24900</th>\n",
       "      <td>2019-09-06 21:53:00</td>\n",
       "      <td>7325</td>\n",
       "      <td>checkout</td>\n",
       "    </tr>\n",
       "    <tr>\n",
       "      <th>24901</th>\n",
       "      <td>2019-09-06 21:53:00</td>\n",
       "      <td>7327</td>\n",
       "      <td>checkout</td>\n",
       "    </tr>\n",
       "    <tr>\n",
       "      <th>24902</th>\n",
       "      <td>2019-09-06 21:53:00</td>\n",
       "      <td>7328</td>\n",
       "      <td>checkout</td>\n",
       "    </tr>\n",
       "    <tr>\n",
       "      <th>24903</th>\n",
       "      <td>2019-09-06 21:53:00</td>\n",
       "      <td>7331</td>\n",
       "      <td>checkout</td>\n",
       "    </tr>\n",
       "    <tr>\n",
       "      <th>24904</th>\n",
       "      <td>2019-09-06 21:53:00</td>\n",
       "      <td>7332</td>\n",
       "      <td>checkout</td>\n",
       "    </tr>\n",
       "  </tbody>\n",
       "</table>\n",
       "<p>24905 rows × 3 columns</p>\n",
       "</div>"
      ],
      "text/plain": [
       "                timestamp  customer_no  location\n",
       "0     2019-09-02 07:03:00            1     dairy\n",
       "1     2019-09-02 07:03:00            2     dairy\n",
       "2     2019-09-02 07:04:00            3     dairy\n",
       "3     2019-09-02 07:04:00            4     dairy\n",
       "4     2019-09-02 07:04:00            5    spices\n",
       "...                   ...          ...       ...\n",
       "24900 2019-09-06 21:53:00         7325  checkout\n",
       "24901 2019-09-06 21:53:00         7327  checkout\n",
       "24902 2019-09-06 21:53:00         7328  checkout\n",
       "24903 2019-09-06 21:53:00         7331  checkout\n",
       "24904 2019-09-06 21:53:00         7332  checkout\n",
       "\n",
       "[24905 rows x 3 columns]"
      ]
     },
     "execution_count": 11,
     "metadata": {},
     "output_type": "execute_result"
    }
   ],
   "source": [
    "data = pd.concat([monday_data, tuesday_data, wednesday_data, thursday_data, friday_data]).reset_index(drop = True)\n",
    "data"
   ]
  },
  {
   "cell_type": "code",
   "execution_count": 13,
   "id": "f18f02b0-5ba1-46dd-afaf-02133bf703b7",
   "metadata": {},
   "outputs": [],
   "source": [
    "data.to_csv(\"./data/supermarket_data.csv\", index=False)"
   ]
  },
  {
   "cell_type": "code",
   "execution_count": null,
   "id": "0a3e0550-a499-43c8-8d2f-507acc8823b8",
   "metadata": {},
   "outputs": [],
   "source": []
  }
 ],
 "metadata": {
  "kernelspec": {
   "display_name": "Python 3 (ipykernel)",
   "language": "python",
   "name": "python3"
  },
  "language_info": {
   "codemirror_mode": {
    "name": "ipython",
    "version": 3
   },
   "file_extension": ".py",
   "mimetype": "text/x-python",
   "name": "python",
   "nbconvert_exporter": "python",
   "pygments_lexer": "ipython3",
   "version": "3.9.7"
  }
 },
 "nbformat": 4,
 "nbformat_minor": 5
}
